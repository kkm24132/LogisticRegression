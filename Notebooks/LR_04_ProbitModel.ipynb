{
 "cells": [
  {
   "cell_type": "markdown",
   "metadata": {},
   "source": [
    "# Logistic Regression"
   ]
  },
  {
   "cell_type": "markdown",
   "metadata": {},
   "source": [
    "## Probit Model"
   ]
  },
  {
   "cell_type": "markdown",
   "metadata": {},
   "source": [
    "### Context"
   ]
  },
  {
   "cell_type": "markdown",
   "metadata": {},
   "source": [
    "A Probit Regression Model is a version of the generalized linear model used to model dichotomous outcome variables. It uses the inverse standard normal distribution as a linear combination of the predictors. The binary outcome variable Y is assumed to have a Bernoulli distribution with parameter p (where the success probability is p ∈ (0,1)). \n",
    "\n",
    "The probit link function is probit(EY) = f(Pr(Y=1|X))\n",
    "\n",
    "\n",
    "Please note:\n",
    "\n",
    "* Link function used for Logistic regression: n(p) = ln(p/1-p)\n",
    "* Link function used for Probit regression: n(p) = f(p)"
   ]
  },
  {
   "cell_type": "markdown",
   "metadata": {},
   "source": [
    "We will use the ```Mroz``` data set on ```Female Labor Participation``` with 8 variables. The data covers a sample of 750+ married women aged between 30 and 60 collected in 1975. The original source for this data is Mroz, T.A. (1987). Ref: http://unionstats.gsu.edu/9220/Mroz_Econometrica_LaborSupply_1987.pdf\n",
    "\n",
    "Dataset Ref: https://github.com/Accelerate-AI/Classification-Models/blob/main/data/Mroz.csv "
   ]
  },
  {
   "cell_type": "markdown",
   "metadata": {},
   "source": [
    "|Variable(s)\t   |Description\t                                  |Type          |\n",
    "|---------------|----------------------------------------------|--------------|\n",
    "|lfp        \t|Labor-force participation of the married white woman|Categorical: 0/1|\n",
    "|k5 \t        |Number of children younger than 6 years old\t     |Positive integer|\n",
    "|k618    \t    |Number of children aged 6-18\t                     |Positive integer|\n",
    "|age        \t|Age in years\t                                     |Positive integer|\n",
    "|wc\t            |Wifes college attendance\t                         |Categorical: 0/1|\n",
    "|hc\t            |Husbands college attendance\t                     |Categorical: 0/1|\n",
    "|lwg        \t|Log expected wage rate for women in the labor force |Numerical       |\n",
    "|inc \t        |Family income without the wifes income\t             |Numerical       |"
   ]
  },
  {
   "cell_type": "markdown",
   "metadata": {},
   "source": [
    "Our objective is to identify whether certain characteristics of a woman’s household and personal life can predict her labor-force participation."
   ]
  },
  {
   "cell_type": "markdown",
   "metadata": {
    "heading_collapsed": true
   },
   "source": [
    "### Import Libraries and Load Dataset"
   ]
  },
  {
   "cell_type": "code",
   "execution_count": 1,
   "metadata": {
    "hidden": true
   },
   "outputs": [],
   "source": [
    "import pandas as pd \n",
    "import numpy as np\n",
    "\n",
    "import statsmodels.api as sm\n",
    "from statsmodels.discrete.discrete_model import Probit"
   ]
  },
  {
   "cell_type": "code",
   "execution_count": 2,
   "metadata": {
    "hidden": true
   },
   "outputs": [
    {
     "data": {
      "text/html": [
       "<div>\n",
       "<style scoped>\n",
       "    .dataframe tbody tr th:only-of-type {\n",
       "        vertical-align: middle;\n",
       "    }\n",
       "\n",
       "    .dataframe tbody tr th {\n",
       "        vertical-align: top;\n",
       "    }\n",
       "\n",
       "    .dataframe thead th {\n",
       "        text-align: right;\n",
       "    }\n",
       "</style>\n",
       "<table border=\"1\" class=\"dataframe\">\n",
       "  <thead>\n",
       "    <tr style=\"text-align: right;\">\n",
       "      <th></th>\n",
       "      <th>Unnamed: 0</th>\n",
       "      <th>lfp</th>\n",
       "      <th>k5</th>\n",
       "      <th>k618</th>\n",
       "      <th>age</th>\n",
       "      <th>wc</th>\n",
       "      <th>hc</th>\n",
       "      <th>lwg</th>\n",
       "      <th>inc</th>\n",
       "    </tr>\n",
       "  </thead>\n",
       "  <tbody>\n",
       "    <tr>\n",
       "      <th>696</th>\n",
       "      <td>697</td>\n",
       "      <td>no</td>\n",
       "      <td>0</td>\n",
       "      <td>1</td>\n",
       "      <td>48</td>\n",
       "      <td>yes</td>\n",
       "      <td>yes</td>\n",
       "      <td>1.526319</td>\n",
       "      <td>22.299999</td>\n",
       "    </tr>\n",
       "    <tr>\n",
       "      <th>665</th>\n",
       "      <td>666</td>\n",
       "      <td>no</td>\n",
       "      <td>0</td>\n",
       "      <td>0</td>\n",
       "      <td>55</td>\n",
       "      <td>no</td>\n",
       "      <td>no</td>\n",
       "      <td>1.039452</td>\n",
       "      <td>13.071999</td>\n",
       "    </tr>\n",
       "    <tr>\n",
       "      <th>96</th>\n",
       "      <td>97</td>\n",
       "      <td>yes</td>\n",
       "      <td>0</td>\n",
       "      <td>1</td>\n",
       "      <td>45</td>\n",
       "      <td>no</td>\n",
       "      <td>no</td>\n",
       "      <td>1.580689</td>\n",
       "      <td>23.799999</td>\n",
       "    </tr>\n",
       "    <tr>\n",
       "      <th>415</th>\n",
       "      <td>416</td>\n",
       "      <td>yes</td>\n",
       "      <td>1</td>\n",
       "      <td>2</td>\n",
       "      <td>39</td>\n",
       "      <td>yes</td>\n",
       "      <td>no</td>\n",
       "      <td>-1.543298</td>\n",
       "      <td>16.120001</td>\n",
       "    </tr>\n",
       "    <tr>\n",
       "      <th>212</th>\n",
       "      <td>213</td>\n",
       "      <td>yes</td>\n",
       "      <td>0</td>\n",
       "      <td>2</td>\n",
       "      <td>41</td>\n",
       "      <td>no</td>\n",
       "      <td>no</td>\n",
       "      <td>1.357383</td>\n",
       "      <td>15.600000</td>\n",
       "    </tr>\n",
       "  </tbody>\n",
       "</table>\n",
       "</div>"
      ],
      "text/plain": [
       "     Unnamed: 0  lfp  k5  k618  age   wc   hc       lwg        inc\n",
       "696         697   no   0     1   48  yes  yes  1.526319  22.299999\n",
       "665         666   no   0     0   55   no   no  1.039452  13.071999\n",
       "96           97  yes   0     1   45   no   no  1.580689  23.799999\n",
       "415         416  yes   1     2   39  yes   no -1.543298  16.120001\n",
       "212         213  yes   0     2   41   no   no  1.357383  15.600000"
      ]
     },
     "execution_count": 2,
     "metadata": {},
     "output_type": "execute_result"
    }
   ],
   "source": [
    "# Loading the dataset \n",
    "df = pd.read_csv('C:/Users/mishr/Desktop/Notebooks/data/Mroz.csv') \n",
    "\n",
    "df.sample(5)"
   ]
  },
  {
   "cell_type": "markdown",
   "metadata": {
    "hidden": true
   },
   "source": [
    "Data Cleaning - Since some of the data is read in as strings, we need to transform them into binary categorical data using the following code. We also drop the first column as it is read in with row numbers, which we do not need."
   ]
  },
  {
   "cell_type": "code",
   "execution_count": 3,
   "metadata": {
    "hidden": true
   },
   "outputs": [],
   "source": [
    "df = df.drop(df.columns[0], axis = 1)\n",
    "df[\"lfp\"] = df[\"lfp\"] == \"yes\"\n",
    "df[\"wc\"] = df[\"wc\"] == \"yes\"\n",
    "df[\"hc\"] = df[\"hc\"] == \"yes\""
   ]
  },
  {
   "cell_type": "code",
   "execution_count": 4,
   "metadata": {
    "hidden": true
   },
   "outputs": [
    {
     "data": {
      "text/html": [
       "<div>\n",
       "<style scoped>\n",
       "    .dataframe tbody tr th:only-of-type {\n",
       "        vertical-align: middle;\n",
       "    }\n",
       "\n",
       "    .dataframe tbody tr th {\n",
       "        vertical-align: top;\n",
       "    }\n",
       "\n",
       "    .dataframe thead th {\n",
       "        text-align: right;\n",
       "    }\n",
       "</style>\n",
       "<table border=\"1\" class=\"dataframe\">\n",
       "  <thead>\n",
       "    <tr style=\"text-align: right;\">\n",
       "      <th></th>\n",
       "      <th>lfp</th>\n",
       "      <th>k5</th>\n",
       "      <th>k618</th>\n",
       "      <th>age</th>\n",
       "      <th>wc</th>\n",
       "      <th>hc</th>\n",
       "      <th>lwg</th>\n",
       "      <th>inc</th>\n",
       "    </tr>\n",
       "  </thead>\n",
       "  <tbody>\n",
       "    <tr>\n",
       "      <th>581</th>\n",
       "      <td>False</td>\n",
       "      <td>0</td>\n",
       "      <td>2</td>\n",
       "      <td>37</td>\n",
       "      <td>True</td>\n",
       "      <td>True</td>\n",
       "      <td>1.065162</td>\n",
       "      <td>15.900000</td>\n",
       "    </tr>\n",
       "    <tr>\n",
       "      <th>310</th>\n",
       "      <td>True</td>\n",
       "      <td>0</td>\n",
       "      <td>1</td>\n",
       "      <td>30</td>\n",
       "      <td>False</td>\n",
       "      <td>False</td>\n",
       "      <td>1.196087</td>\n",
       "      <td>15.591000</td>\n",
       "    </tr>\n",
       "    <tr>\n",
       "      <th>549</th>\n",
       "      <td>False</td>\n",
       "      <td>0</td>\n",
       "      <td>1</td>\n",
       "      <td>47</td>\n",
       "      <td>False</td>\n",
       "      <td>False</td>\n",
       "      <td>1.121527</td>\n",
       "      <td>17.700001</td>\n",
       "    </tr>\n",
       "    <tr>\n",
       "      <th>647</th>\n",
       "      <td>False</td>\n",
       "      <td>0</td>\n",
       "      <td>0</td>\n",
       "      <td>49</td>\n",
       "      <td>False</td>\n",
       "      <td>False</td>\n",
       "      <td>0.851477</td>\n",
       "      <td>18.150000</td>\n",
       "    </tr>\n",
       "    <tr>\n",
       "      <th>416</th>\n",
       "      <td>True</td>\n",
       "      <td>0</td>\n",
       "      <td>2</td>\n",
       "      <td>36</td>\n",
       "      <td>True</td>\n",
       "      <td>False</td>\n",
       "      <td>1.912046</td>\n",
       "      <td>26.500000</td>\n",
       "    </tr>\n",
       "  </tbody>\n",
       "</table>\n",
       "</div>"
      ],
      "text/plain": [
       "       lfp  k5  k618  age     wc     hc       lwg        inc\n",
       "581  False   0     2   37   True   True  1.065162  15.900000\n",
       "310   True   0     1   30  False  False  1.196087  15.591000\n",
       "549  False   0     1   47  False  False  1.121527  17.700001\n",
       "647  False   0     0   49  False  False  0.851477  18.150000\n",
       "416   True   0     2   36   True  False  1.912046  26.500000"
      ]
     },
     "execution_count": 4,
     "metadata": {},
     "output_type": "execute_result"
    }
   ],
   "source": [
    "df.sample(5)"
   ]
  },
  {
   "cell_type": "code",
   "execution_count": 5,
   "metadata": {
    "hidden": true
   },
   "outputs": [
    {
     "data": {
      "text/html": [
       "<div>\n",
       "<style scoped>\n",
       "    .dataframe tbody tr th:only-of-type {\n",
       "        vertical-align: middle;\n",
       "    }\n",
       "\n",
       "    .dataframe tbody tr th {\n",
       "        vertical-align: top;\n",
       "    }\n",
       "\n",
       "    .dataframe thead th {\n",
       "        text-align: right;\n",
       "    }\n",
       "</style>\n",
       "<table border=\"1\" class=\"dataframe\">\n",
       "  <thead>\n",
       "    <tr style=\"text-align: right;\">\n",
       "      <th></th>\n",
       "      <th>k5</th>\n",
       "      <th>k618</th>\n",
       "      <th>age</th>\n",
       "      <th>lwg</th>\n",
       "      <th>inc</th>\n",
       "    </tr>\n",
       "  </thead>\n",
       "  <tbody>\n",
       "    <tr>\n",
       "      <th>count</th>\n",
       "      <td>753.000000</td>\n",
       "      <td>753.000000</td>\n",
       "      <td>753.000000</td>\n",
       "      <td>753.000000</td>\n",
       "      <td>753.000000</td>\n",
       "    </tr>\n",
       "    <tr>\n",
       "      <th>mean</th>\n",
       "      <td>0.237716</td>\n",
       "      <td>1.353254</td>\n",
       "      <td>42.537849</td>\n",
       "      <td>1.097115</td>\n",
       "      <td>20.128965</td>\n",
       "    </tr>\n",
       "    <tr>\n",
       "      <th>std</th>\n",
       "      <td>0.523959</td>\n",
       "      <td>1.319874</td>\n",
       "      <td>8.072574</td>\n",
       "      <td>0.587556</td>\n",
       "      <td>11.634799</td>\n",
       "    </tr>\n",
       "    <tr>\n",
       "      <th>min</th>\n",
       "      <td>0.000000</td>\n",
       "      <td>0.000000</td>\n",
       "      <td>30.000000</td>\n",
       "      <td>-2.054124</td>\n",
       "      <td>-0.029000</td>\n",
       "    </tr>\n",
       "    <tr>\n",
       "      <th>25%</th>\n",
       "      <td>0.000000</td>\n",
       "      <td>0.000000</td>\n",
       "      <td>36.000000</td>\n",
       "      <td>0.818086</td>\n",
       "      <td>13.025000</td>\n",
       "    </tr>\n",
       "    <tr>\n",
       "      <th>50%</th>\n",
       "      <td>0.000000</td>\n",
       "      <td>1.000000</td>\n",
       "      <td>43.000000</td>\n",
       "      <td>1.068403</td>\n",
       "      <td>17.700001</td>\n",
       "    </tr>\n",
       "    <tr>\n",
       "      <th>75%</th>\n",
       "      <td>0.000000</td>\n",
       "      <td>2.000000</td>\n",
       "      <td>49.000000</td>\n",
       "      <td>1.399717</td>\n",
       "      <td>24.466000</td>\n",
       "    </tr>\n",
       "    <tr>\n",
       "      <th>max</th>\n",
       "      <td>3.000000</td>\n",
       "      <td>8.000000</td>\n",
       "      <td>60.000000</td>\n",
       "      <td>3.218876</td>\n",
       "      <td>96.000000</td>\n",
       "    </tr>\n",
       "  </tbody>\n",
       "</table>\n",
       "</div>"
      ],
      "text/plain": [
       "               k5        k618         age         lwg         inc\n",
       "count  753.000000  753.000000  753.000000  753.000000  753.000000\n",
       "mean     0.237716    1.353254   42.537849    1.097115   20.128965\n",
       "std      0.523959    1.319874    8.072574    0.587556   11.634799\n",
       "min      0.000000    0.000000   30.000000   -2.054124   -0.029000\n",
       "25%      0.000000    0.000000   36.000000    0.818086   13.025000\n",
       "50%      0.000000    1.000000   43.000000    1.068403   17.700001\n",
       "75%      0.000000    2.000000   49.000000    1.399717   24.466000\n",
       "max      3.000000    8.000000   60.000000    3.218876   96.000000"
      ]
     },
     "execution_count": 5,
     "metadata": {},
     "output_type": "execute_result"
    }
   ],
   "source": [
    "df.describe()"
   ]
  },
  {
   "cell_type": "markdown",
   "metadata": {
    "heading_collapsed": true
   },
   "source": [
    "### Fit the Probit Model"
   ]
  },
  {
   "cell_type": "markdown",
   "metadata": {
    "hidden": true
   },
   "source": [
    "First we break our dataset into response variable and predictor variables. We will use lfp as our response variable and all the remaining variable as predictors. Then we use the statsmodels function to fit our Probit regression with our response variable and design matrix. The statsmodels package is unique from other languages and packages as it does not include an intercept term by default. This needs to be manually set."
   ]
  },
  {
   "cell_type": "code",
   "execution_count": 6,
   "metadata": {
    "hidden": true
   },
   "outputs": [
    {
     "name": "stdout",
     "output_type": "stream",
     "text": [
      "Optimization terminated successfully.\n",
      "         Current function value: 0.601189\n",
      "         Iterations 5\n"
     ]
    }
   ],
   "source": [
    "y = df[\"lfp\"]\n",
    "X = df.drop([\"lfp\"], 1)\n",
    "X = sm.add_constant(X)\n",
    "\n",
    "#probit_model = Probit(y, X).fit()\n",
    "probit_model = Probit(y, X.astype(float)).fit()"
   ]
  },
  {
   "cell_type": "markdown",
   "metadata": {
    "hidden": true
   },
   "source": [
    "The following is the results of our regression. The statsmodels package automatically includes p values and confidence intervals for each coefficient. The probit model is stored as a probit model object in Python. All operations with the model are invoked as model.member_function()."
   ]
  },
  {
   "cell_type": "code",
   "execution_count": 7,
   "metadata": {
    "hidden": true
   },
   "outputs": [
    {
     "name": "stdout",
     "output_type": "stream",
     "text": [
      "                          Probit Regression Results                           \n",
      "==============================================================================\n",
      "Dep. Variable:                    lfp   No. Observations:                  753\n",
      "Model:                         Probit   Df Residuals:                      745\n",
      "Method:                           MLE   Df Model:                            7\n",
      "Date:                Fri, 10 Jun 2022   Pseudo R-squ.:                  0.1208\n",
      "Time:                        21:14:28   Log-Likelihood:                -452.69\n",
      "converged:                       True   LL-Null:                       -514.87\n",
      "Covariance Type:            nonrobust   LLR p-value:                 9.471e-24\n",
      "==============================================================================\n",
      "                 coef    std err          z      P>|z|      [0.025      0.975]\n",
      "------------------------------------------------------------------------------\n",
      "const          1.9184      0.381      5.040      0.000       1.172       2.664\n",
      "k5            -0.8747      0.114     -7.703      0.000      -1.097      -0.652\n",
      "k618          -0.0386      0.040     -0.953      0.340      -0.118       0.041\n",
      "age           -0.0378      0.008     -4.971      0.000      -0.053      -0.023\n",
      "wc             0.4883      0.135      3.604      0.000       0.223       0.754\n",
      "hc             0.0572      0.124      0.461      0.645      -0.186       0.300\n",
      "lwg            0.3656      0.088      4.165      0.000       0.194       0.538\n",
      "inc           -0.0205      0.005     -4.297      0.000      -0.030      -0.011\n",
      "==============================================================================\n"
     ]
    }
   ],
   "source": [
    "print(probit_model.summary())"
   ]
  },
  {
   "cell_type": "markdown",
   "metadata": {
    "hidden": true
   },
   "source": [
    "It appears that all our predictors are statistically significant at level a except hc and k618"
   ]
  },
  {
   "cell_type": "markdown",
   "metadata": {
    "heading_collapsed": true
   },
   "source": [
    "### Marginal Effects"
   ]
  },
  {
   "cell_type": "markdown",
   "metadata": {
    "hidden": true
   },
   "source": [
    "To better understand why our predictors are significant, we attempt to study the marginal effects of our predictors. Here, we will try to look at the predictors hc, wc, age, and k5. Unfortunately, there is no member function of the probit class to calculate the standard error of each prediction so this is ommited here."
   ]
  },
  {
   "cell_type": "markdown",
   "metadata": {
    "heading_collapsed": true,
    "hidden": true
   },
   "source": [
    "#### Group by Husband’s College Attendance"
   ]
  },
  {
   "cell_type": "code",
   "execution_count": 8,
   "metadata": {
    "hidden": true
   },
   "outputs": [
    {
     "name": "stdout",
     "output_type": "stream",
     "text": [
      "hc     False  True  All\n",
      "lfp                    \n",
      "False    207   118  325\n",
      "True     251   177  428\n",
      "All      458   295  753\n"
     ]
    }
   ],
   "source": [
    "# First we group the data by hc\n",
    "# To better understand hc, we tabulate lfp and hc. This is done with the pandas crosstab function.\n",
    "\n",
    "print(pd.crosstab(df[\"lfp\"], df[\"hc\"], margins = True))"
   ]
  },
  {
   "cell_type": "markdown",
   "metadata": {
    "hidden": true
   },
   "source": [
    "Then we calculate adjusted predictions of ```lfp``` for two levels of the ```hc``` variable. Creating these adjusted predictors is not very clean in Python compared to other languages. We have to build the array from scratch."
   ]
  },
  {
   "cell_type": "code",
   "execution_count": 9,
   "metadata": {
    "hidden": true
   },
   "outputs": [
    {
     "data": {
      "text/plain": [
       "Index(['lfp', 'k5', 'k618', 'age', 'wc', 'hc', 'lwg', 'inc'], dtype='object')"
      ]
     },
     "execution_count": 9,
     "metadata": {},
     "output_type": "execute_result"
    }
   ],
   "source": [
    "df.columns"
   ]
  },
  {
   "cell_type": "code",
   "execution_count": 10,
   "metadata": {
    "hidden": true
   },
   "outputs": [],
   "source": [
    "hc_data0 = np.column_stack((\n",
    "    1,\n",
    "    np.mean(df[\"k5\"]),\n",
    "    np.mean(df[\"k618\"]),\n",
    "    np.mean(df[\"age\"]),\n",
    "    np.mean(df[\"wc\"]),\n",
    "    0,\n",
    "    np.mean(df[\"lwg\"]),\n",
    "    np.mean(df[\"inc\"])\n",
    "    ))\n",
    "    \n",
    "hc_data1 = np.column_stack((\n",
    "    1,\n",
    "    np.mean(df[\"k5\"]),\n",
    "    np.mean(df[\"k618\"]),\n",
    "    np.mean(df[\"age\"]),\n",
    "    np.mean(df[\"wc\"]),\n",
    "    1,\n",
    "    np.mean(df[\"lwg\"]),\n",
    "    np.mean(df[\"inc\"])\n",
    "    ))"
   ]
  },
  {
   "cell_type": "code",
   "execution_count": 11,
   "metadata": {
    "hidden": true
   },
   "outputs": [
    {
     "name": "stdout",
     "output_type": "stream",
     "text": [
      "[0.56938181]\n",
      "[0.59171968]\n"
     ]
    }
   ],
   "source": [
    "print(probit_model.predict(hc_data0))\n",
    "print(probit_model.predict(hc_data1))"
   ]
  },
  {
   "cell_type": "markdown",
   "metadata": {
    "hidden": true
   },
   "source": [
    "We see that the marginal probability of husband being a collage graduate is 0.591, while the marginal probability of husband being a high school graduate is lower at 0.569."
   ]
  },
  {
   "cell_type": "markdown",
   "metadata": {
    "heading_collapsed": true,
    "hidden": true
   },
   "source": [
    "#### Group by Wife’s College Attendance"
   ]
  },
  {
   "cell_type": "markdown",
   "metadata": {
    "hidden": true
   },
   "source": [
    "Similarly to ```hc```, we tabulate our response variable ```lfp``` and predictor ```wc```. We can see that there is a significant imbalance between labor force participation for women that are college graduates."
   ]
  },
  {
   "cell_type": "code",
   "execution_count": 12,
   "metadata": {
    "hidden": true
   },
   "outputs": [
    {
     "name": "stdout",
     "output_type": "stream",
     "text": [
      "wc     False  True  All\n",
      "lfp                    \n",
      "False    257    68  325\n",
      "True     284   144  428\n",
      "All      541   212  753\n"
     ]
    }
   ],
   "source": [
    "print(pd.crosstab(df[\"lfp\"], df[\"wc\"], margins = True))"
   ]
  },
  {
   "cell_type": "markdown",
   "metadata": {
    "hidden": true
   },
   "source": [
    "We can also calculate the adjusted predictions of ```lfp``` for the two levels of ```wc``` variable, while keeping other variables at the mean."
   ]
  },
  {
   "cell_type": "code",
   "execution_count": 13,
   "metadata": {
    "hidden": true
   },
   "outputs": [],
   "source": [
    "wc_data0 = np.column_stack((\n",
    "    1,\n",
    "    np.mean(df[\"k5\"]),\n",
    "    np.mean(df[\"k618\"]),\n",
    "    np.mean(df[\"age\"]),\n",
    "    0,\n",
    "    np.mean(df[\"hc\"]),\n",
    "    np.mean(df[\"lwg\"]),\n",
    "    np.mean(df[\"inc\"])\n",
    "    ))\n",
    "wc_data1 = np.column_stack((\n",
    "    1,\n",
    "    np.mean(df[\"k5\"]),\n",
    "    np.mean(df[\"k618\"]),\n",
    "    np.mean(df[\"age\"]),\n",
    "    1,\n",
    "    np.mean(df[\"hc\"]),\n",
    "    np.mean(df[\"lwg\"]),\n",
    "    np.mean(df[\"inc\"])\n",
    "    ))"
   ]
  },
  {
   "cell_type": "code",
   "execution_count": 14,
   "metadata": {
    "hidden": true
   },
   "outputs": [
    {
     "name": "stdout",
     "output_type": "stream",
     "text": [
      "[0.52380974]\n",
      "[0.70816505]\n"
     ]
    }
   ],
   "source": [
    "print(probit_model.predict(wc_data0))\n",
    "print(probit_model.predict(wc_data1))"
   ]
  },
  {
   "cell_type": "markdown",
   "metadata": {
    "hidden": true
   },
   "source": [
    "It appears that the marginal probability increases from 0.524 to 0.708 when women are college graduates compared to highschool graduates."
   ]
  },
  {
   "cell_type": "markdown",
   "metadata": {
    "heading_collapsed": true,
    "hidden": true
   },
   "source": [
    "#### Group by Age and Wife’s College Attendance"
   ]
  },
  {
   "cell_type": "markdown",
   "metadata": {
    "hidden": true
   },
   "source": [
    "We can predict the outcome variable by both age and women’s college education. We use increments of 10 between 30 and 60 as our representative ages."
   ]
  },
  {
   "cell_type": "code",
   "execution_count": 15,
   "metadata": {
    "hidden": true
   },
   "outputs": [],
   "source": [
    "wc_data0 = np.column_stack((\n",
    "    np.repeat(1,4),\n",
    "    np.repeat(np.mean(df[\"k5\"]),4),\n",
    "    np.repeat(np.mean(df[\"k618\"]), 4),\n",
    "    (30,40,50,60),\n",
    "    np.repeat(0,4),\n",
    "    np.repeat(np.mean(df[\"hc\"]),4),\n",
    "    np.repeat(np.mean(df[\"lwg\"]),4),\n",
    "    np.repeat(np.mean(df[\"inc\"]),4)\n",
    "    ))\n",
    "wc_data1 = np.column_stack((\n",
    "    np.repeat(1,4),\n",
    "    np.repeat(np.mean(df[\"k5\"]),4),\n",
    "    np.repeat(np.mean(df[\"k618\"]), 4),\n",
    "    (30,40,50,60),\n",
    "    np.repeat(1,4),\n",
    "    np.repeat(np.mean(df[\"hc\"]),4),\n",
    "    np.repeat(np.mean(df[\"lwg\"]),4),\n",
    "    np.repeat(np.mean(df[\"inc\"]),4)\n",
    "))"
   ]
  },
  {
   "cell_type": "code",
   "execution_count": 16,
   "metadata": {
    "hidden": true
   },
   "outputs": [
    {
     "name": "stdout",
     "output_type": "stream",
     "text": [
      "[0.70330952 0.5618684  0.41195181 0.27399923]\n",
      "[0.84667045 0.74021954 0.6047985  0.45523423]\n"
     ]
    }
   ],
   "source": [
    "print(probit_model.predict(wc_data0))\n",
    "print(probit_model.predict(wc_data1))"
   ]
  },
  {
   "cell_type": "markdown",
   "metadata": {
    "hidden": true
   },
   "source": [
    "As we can see, the older a women gets, the less chance of her participating in the labor force. Regardless of age, women’s college education always yields a higher probability of labor force participation."
   ]
  },
  {
   "cell_type": "markdown",
   "metadata": {
    "heading_collapsed": true,
    "hidden": true
   },
   "source": [
    "#### Group by Number of Children 5 years or younger (K5)"
   ]
  },
  {
   "cell_type": "markdown",
   "metadata": {
    "hidden": true
   },
   "source": [
    "Now, let's finally look at the effects of number of children 5 years or younger. As before, here is a cross tabulation of this variable."
   ]
  },
  {
   "cell_type": "code",
   "execution_count": 17,
   "metadata": {
    "hidden": true
   },
   "outputs": [
    {
     "name": "stdout",
     "output_type": "stream",
     "text": [
      "k5       0    1   2  3  All\n",
      "lfp                        \n",
      "False  231   72  19  3  325\n",
      "True   375   46   7  0  428\n",
      "All    606  118  26  3  753\n"
     ]
    }
   ],
   "source": [
    "print(pd.crosstab(df[\"lfp\"], df[\"k5\"], margins = True))"
   ]
  },
  {
   "cell_type": "markdown",
   "metadata": {
    "hidden": true
   },
   "source": [
    "Then we predict ```lfp``` at different levels of ```k5```, while keeping other variables at their means."
   ]
  },
  {
   "cell_type": "code",
   "execution_count": 18,
   "metadata": {
    "hidden": true
   },
   "outputs": [],
   "source": [
    "k5_data = np.column_stack((\n",
    "    np.repeat(1,4),\n",
    "    (0,1,2,3),\n",
    "    np.repeat(np.mean(df[\"k618\"]), 4),\n",
    "    np.repeat(np.mean(df[\"age\"]),4),\n",
    "    np.repeat(np.mean(df[\"wc\"]),4),\n",
    "    np.repeat(np.mean(df[\"hc\"]),4),\n",
    "    np.repeat(np.mean(df[\"lwg\"]),4),\n",
    "    np.repeat(np.mean(df[\"inc\"]),4)\n",
    "    ))"
   ]
  },
  {
   "cell_type": "code",
   "execution_count": 19,
   "metadata": {
    "hidden": true
   },
   "outputs": [
    {
     "name": "stdout",
     "output_type": "stream",
     "text": [
      "[0.65730924 0.31932735 0.08942703 0.01324326]\n"
     ]
    }
   ],
   "source": [
    "print(probit_model.predict(k5_data))"
   ]
  },
  {
   "cell_type": "markdown",
   "metadata": {
    "hidden": true
   },
   "source": [
    "We see that if there are three or more children under the age of 5, there is a 0.013 chance of a woman being in the work force, but when there is no children there is a 0.6573 chance. This is a good indication of the significance of this variable."
   ]
  },
  {
   "cell_type": "markdown",
   "metadata": {
    "heading_collapsed": true,
    "hidden": true
   },
   "source": [
    "#### Extension"
   ]
  },
  {
   "cell_type": "markdown",
   "metadata": {
    "hidden": true
   },
   "source": [
    "Now, an overall marginal effect can be observed by calling the ```get_margeff()``` method of the probit model class. This is unique to Python. Results are as follows."
   ]
  },
  {
   "cell_type": "code",
   "execution_count": 20,
   "metadata": {
    "hidden": true
   },
   "outputs": [
    {
     "name": "stdout",
     "output_type": "stream",
     "text": [
      "       Probit Marginal Effects       \n",
      "=====================================\n",
      "Dep. Variable:                    lfp\n",
      "Method:                          dydx\n",
      "At:                           overall\n",
      "==============================================================================\n",
      "                dy/dx    std err          z      P>|z|      [0.025      0.975]\n",
      "------------------------------------------------------------------------------\n",
      "k5            -0.2997      0.034     -8.726      0.000      -0.367      -0.232\n",
      "k618          -0.0132      0.014     -0.955      0.340      -0.040       0.014\n",
      "age           -0.0130      0.002     -5.219      0.000      -0.018      -0.008\n",
      "wc             0.1673      0.045      3.696      0.000       0.079       0.256\n",
      "hc             0.0196      0.042      0.461      0.645      -0.064       0.103\n",
      "lwg            0.1253      0.029      4.311      0.000       0.068       0.182\n",
      "inc           -0.0070      0.002     -4.451      0.000      -0.010      -0.004\n",
      "==============================================================================\n"
     ]
    }
   ],
   "source": [
    "mfx = probit_model.get_margeff()\n",
    "print(mfx.summary())"
   ]
  },
  {
   "cell_type": "markdown",
   "metadata": {
    "heading_collapsed": true
   },
   "source": [
    "### Summary"
   ]
  },
  {
   "cell_type": "code",
   "execution_count": 21,
   "metadata": {
    "hidden": true
   },
   "outputs": [
    {
     "name": "stdout",
     "output_type": "stream",
     "text": [
      "                          Probit Regression Results                           \n",
      "==============================================================================\n",
      "Dep. Variable:                    lfp   No. Observations:                  753\n",
      "Model:                         Probit   Df Residuals:                      745\n",
      "Method:                           MLE   Df Model:                            7\n",
      "Date:                Fri, 10 Jun 2022   Pseudo R-squ.:                  0.1208\n",
      "Time:                        21:14:28   Log-Likelihood:                -452.69\n",
      "converged:                       True   LL-Null:                       -514.87\n",
      "Covariance Type:            nonrobust   LLR p-value:                 9.471e-24\n",
      "==============================================================================\n",
      "                 coef    std err          z      P>|z|      [0.025      0.975]\n",
      "------------------------------------------------------------------------------\n",
      "const          1.9184      0.381      5.040      0.000       1.172       2.664\n",
      "k5            -0.8747      0.114     -7.703      0.000      -1.097      -0.652\n",
      "k618          -0.0386      0.040     -0.953      0.340      -0.118       0.041\n",
      "age           -0.0378      0.008     -4.971      0.000      -0.053      -0.023\n",
      "wc             0.4883      0.135      3.604      0.000       0.223       0.754\n",
      "hc             0.0572      0.124      0.461      0.645      -0.186       0.300\n",
      "lwg            0.3656      0.088      4.165      0.000       0.194       0.538\n",
      "inc           -0.0205      0.005     -4.297      0.000      -0.030      -0.011\n",
      "==============================================================================\n"
     ]
    }
   ],
   "source": [
    "print(probit_model.summary())"
   ]
  },
  {
   "cell_type": "markdown",
   "metadata": {
    "hidden": true
   },
   "source": [
    "Hence the Regression equation is as follows:\n",
    "\n",
    "probit(EY) = f(Pr(lfp=1)) \n",
    "           = 1.9184 - 0.8747 * k5 - 0.0386 * k618 - 0.0378 * age + 0.4883 * wc + 0.0572 * hc + 0.3656 * lwg - 0.0205 * inc"
   ]
  },
  {
   "cell_type": "markdown",
   "metadata": {
    "hidden": true
   },
   "source": [
    "We predict the probability of labor-force participation by grouping a certain variable, while keeping other variables at mean. Grouping by ```hc```, there is no obivious difference between probabilities, which confirms that ```hc``` is not a significant indicator in our model. We do the same for ```wc```, ```age```, and ```k5```. We can conclude that these varibles have effects on labor-force participation."
   ]
  },
  {
   "cell_type": "code",
   "execution_count": null,
   "metadata": {
    "hidden": true
   },
   "outputs": [],
   "source": []
  }
 ],
 "metadata": {
  "kernelspec": {
   "display_name": "Python 3",
   "language": "python",
   "name": "python3"
  },
  "language_info": {
   "codemirror_mode": {
    "name": "ipython",
    "version": 3
   },
   "file_extension": ".py",
   "mimetype": "text/x-python",
   "name": "python",
   "nbconvert_exporter": "python",
   "pygments_lexer": "ipython3",
   "version": "3.8.5"
  }
 },
 "nbformat": 4,
 "nbformat_minor": 4
}
